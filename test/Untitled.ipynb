{
 "cells": [
  {
   "cell_type": "code",
   "execution_count": 2,
   "metadata": {},
   "outputs": [
    {
     "name": "stdout",
     "output_type": "stream",
     "text": [
      "2\n",
      "5\n",
      "7 awesome\n",
      "13 !\n",
      "9 was\n",
      "3 born\n",
      "8 i\n",
      "[(3, 'born'), (7, 'awesome'), (9, 'was'), (13, '!'), (8, 'i')]\n",
      "i was born awesome !\n",
      "5\n",
      "2 ho\n",
      "2 chi\n",
      "2 min\n",
      "2 ka\n",
      "2 si\n",
      "[(2, 'chi'), (2, 'ho'), (2, 'min'), (2, 'ka'), (2, 'si')]\n",
      "ka min si chi ho\n"
     ]
    }
   ],
   "source": [
    "import heapq\n",
    "\n",
    "t=int(input())\n",
    "\n",
    "for j in range(t):\n",
    "    n=int(input())\n",
    "    heap= []\n",
    "    \n",
    "    for i in range(n):\n",
    "        Arr=input().split()\n",
    "        heapq.heappush(heap,(int(Arr[0]),Arr[1]))\n",
    "    \n",
    "    for i in range(n-1):\n",
    "        var1=heapq.heappop(heap)\n",
    "        var2=heapq.heappop(heap)\n",
    "        heapq.heappush(heap,(var1[0]+var2[0],var1[1]+\" \"+var2[1]))\n",
    "\n",
    "    var=heapq.heappop(heap)\n",
    "    print(var[1])"
   ]
  },
  {
   "cell_type": "code",
   "execution_count": null,
   "metadata": {},
   "outputs": [],
   "source": [
    "\"\"\"\n",
    "1\n",
    "5\n",
    "7 awesome\n",
    "13 !\n",
    "9 was\n",
    "3 born\n",
    "8 i\n",
    "\n",
    "\n",
    "\"\"\""
   ]
  }
 ],
 "metadata": {
  "kernelspec": {
   "display_name": "Python 3",
   "language": "python",
   "name": "python3"
  },
  "language_info": {
   "codemirror_mode": {
    "name": "ipython",
    "version": 3
   },
   "file_extension": ".py",
   "mimetype": "text/x-python",
   "name": "python",
   "nbconvert_exporter": "python",
   "pygments_lexer": "ipython3",
   "version": "3.6.7"
  }
 },
 "nbformat": 4,
 "nbformat_minor": 2
}
