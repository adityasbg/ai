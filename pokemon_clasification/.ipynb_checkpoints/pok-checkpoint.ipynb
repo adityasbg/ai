{
 "cells": [
  {
   "cell_type": "markdown",
   "metadata": {},
   "source": [
    "## Building a Pokemon Classifier\n",
    "\n",
    "<img src=\"./images/pokemon_back.jpg\"\n",
    "     alt=\"pokemon_back.jpg\"\n",
    "     style=\"width: 800px;\" />\n",
    "        \n",
    "Dataset Link - https://www.kaggle.com/thedagger/pokemon-generation-one\n",
    "- has multiple images of each pokemon!\n",
    "- \n",
    "Dataset Created by - \n",
    "##### Harshit Dwivedi \n",
    "(Mentor at Coding Blocks)\n",
    "\n"
   ]
  },
  {
   "cell_type": "code",
   "execution_count": 1,
   "metadata": {},
   "outputs": [
    {
     "name": "stderr",
     "output_type": "stream",
     "text": [
      "Using TensorFlow backend.\n"
     ]
    }
   ],
   "source": [
    "import os\n",
    "from pathlib import Path\n",
    "from keras.preprocessing import image\n",
    "import matplotlib.pyplot as plt"
   ]
  },
  {
   "cell_type": "code",
   "execution_count": 13,
   "metadata": {},
   "outputs": [
    {
     "name": "stdout",
     "output_type": "stream",
     "text": [
      "dataset\n",
      "dataset/Bulbasaur\n"
     ]
    },
    {
     "ename": "KeyError",
     "evalue": "'dataset/Bulbasaur'",
     "output_type": "error",
     "traceback": [
      "\u001b[0;31m---------------------------------------------------------------------------\u001b[0m",
      "\u001b[0;31mKeyError\u001b[0m                                  Traceback (most recent call last)",
      "\u001b[0;32m<ipython-input-13-5e7b2354a812>\u001b[0m in \u001b[0;36m<module>\u001b[0;34m()\u001b[0m\n\u001b[1;32m     24\u001b[0m         \u001b[0mimg_array\u001b[0m \u001b[0;34m=\u001b[0m \u001b[0mimage\u001b[0m\u001b[0;34m.\u001b[0m\u001b[0mimg_to_array\u001b[0m\u001b[0;34m(\u001b[0m\u001b[0mimg\u001b[0m\u001b[0;34m)\u001b[0m\u001b[0;34m\u001b[0m\u001b[0;34m\u001b[0m\u001b[0m\n\u001b[1;32m     25\u001b[0m         \u001b[0mimage_data\u001b[0m\u001b[0;34m.\u001b[0m\u001b[0mappend\u001b[0m\u001b[0;34m(\u001b[0m\u001b[0mimg_array\u001b[0m\u001b[0;34m)\u001b[0m\u001b[0;34m\u001b[0m\u001b[0;34m\u001b[0m\u001b[0m\n\u001b[0;32m---> 26\u001b[0;31m         \u001b[0mlabels\u001b[0m\u001b[0;34m.\u001b[0m\u001b[0mappend\u001b[0m\u001b[0;34m(\u001b[0m\u001b[0mlabel_dict\u001b[0m\u001b[0;34m[\u001b[0m\u001b[0mlabel\u001b[0m\u001b[0;34m]\u001b[0m\u001b[0;34m)\u001b[0m\u001b[0;34m\u001b[0m\u001b[0;34m\u001b[0m\u001b[0m\n\u001b[0m\u001b[1;32m     27\u001b[0m         \u001b[0mcnt\u001b[0m \u001b[0;34m+=\u001b[0m \u001b[0;36m1\u001b[0m\u001b[0;34m\u001b[0m\u001b[0;34m\u001b[0m\u001b[0m\n\u001b[1;32m     28\u001b[0m \u001b[0;34m\u001b[0m\u001b[0m\n",
      "\u001b[0;31mKeyError\u001b[0m: 'dataset/Bulbasaur'"
     ]
    }
   ],
   "source": [
    "p = Path(\"./dataset/\")\n",
    "\n",
    "dirs = p.glob(\"*\")\n",
    "\n",
    "print(p)\n",
    "image_data = []\n",
    "labels = []\n",
    "\n",
    "#Optional\n",
    "image_paths = []\n",
    "\n",
    "label_dict = {\"Pikachu\":0,\"Bulbasaur\":1,\"Meowth\":2}\n",
    "label2pokemon = {0:\"Pikachu\",1:\"Bulbasaur\",2:\"Meowth\"}\n",
    "\n",
    "for folder_dir in dirs:\n",
    "    label = str(folder_dir).split(\"\\\\\")[-1]\n",
    "    \n",
    "    cnt = 0\n",
    "    print(folder_dir)\n",
    "    \n",
    "    #Iterate over folder_dir and pick all images of the pokemen\n",
    "    for img_path in folder_dir.glob(\"*.jpg\"):\n",
    "        img = image.load_img(img_path,target_size=(40,40))\n",
    "        img_array = image.img_to_array(img)\n",
    "        image_data.append(img_array)\n",
    "        labels.append(label_dict[label])\n",
    "        cnt += 1\n",
    "        \n",
    "    print(cnt)"
   ]
  },
  {
   "cell_type": "markdown",
   "metadata": {},
   "source": [
    "## Visualisation"
   ]
  },
  {
   "cell_type": "code",
   "execution_count": 3,
   "metadata": {},
   "outputs": [],
   "source": [
    "import numpy as np"
   ]
  },
  {
   "cell_type": "code",
   "execution_count": 4,
   "metadata": {},
   "outputs": [
    {
     "name": "stdout",
     "output_type": "stream",
     "text": [
      "0\n",
      "0\n"
     ]
    }
   ],
   "source": [
    "print(len(image_data))\n",
    "print(len(labels))"
   ]
  },
  {
   "cell_type": "code",
   "execution_count": 5,
   "metadata": {},
   "outputs": [],
   "source": [
    "import random\n",
    "random.seed(10)"
   ]
  },
  {
   "cell_type": "code",
   "execution_count": 6,
   "metadata": {},
   "outputs": [],
   "source": [
    "X = np.array(image_data)\n",
    "Y = np.array(labels)\n",
    "\n",
    "#Shuffle our data\n",
    "#combined = list(zip(X,Y))\n",
    "#random.shuffle(combined)\n",
    "#X[:],Y[:] = zip(*combined) \n",
    "\n",
    "from sklearn.utils import shuffle\n",
    "X,Y = shuffle(X,Y,random_state=2)\n",
    "\n",
    "#Normalisation\n",
    "X = X/255.0"
   ]
  },
  {
   "cell_type": "code",
   "execution_count": 7,
   "metadata": {},
   "outputs": [
    {
     "name": "stdout",
     "output_type": "stream",
     "text": [
      "[]\n"
     ]
    }
   ],
   "source": [
    "print(Y)"
   ]
  },
  {
   "cell_type": "code",
   "execution_count": 8,
   "metadata": {},
   "outputs": [],
   "source": [
    "# Draw some pokemons\n",
    "def drawImg(img,label):\n",
    "    plt.title(label2pokemon[label])\n",
    "    plt.imshow(img)\n",
    "    plt.style.use(\"seaborn\")\n",
    "    plt.axis(\"off\")\n",
    "    plt.show()"
   ]
  },
  {
   "cell_type": "code",
   "execution_count": 9,
   "metadata": {},
   "outputs": [
    {
     "ename": "IndexError",
     "evalue": "index 1 is out of bounds for axis 0 with size 0",
     "output_type": "error",
     "traceback": [
      "\u001b[0;31m---------------------------------------------------------------------------\u001b[0m",
      "\u001b[0;31mIndexError\u001b[0m                                Traceback (most recent call last)",
      "\u001b[0;32m<ipython-input-9-e7373b6a8515>\u001b[0m in \u001b[0;36m<module>\u001b[0;34m()\u001b[0m\n\u001b[1;32m      1\u001b[0m \u001b[0;32mfor\u001b[0m \u001b[0mi\u001b[0m \u001b[0;32min\u001b[0m \u001b[0mrange\u001b[0m\u001b[0;34m(\u001b[0m\u001b[0;36m1\u001b[0m\u001b[0;34m,\u001b[0m\u001b[0;36m20\u001b[0m\u001b[0;34m)\u001b[0m\u001b[0;34m:\u001b[0m\u001b[0;34m\u001b[0m\u001b[0;34m\u001b[0m\u001b[0m\n\u001b[0;32m----> 2\u001b[0;31m     \u001b[0mdrawImg\u001b[0m\u001b[0;34m(\u001b[0m\u001b[0mX\u001b[0m\u001b[0;34m[\u001b[0m\u001b[0mi\u001b[0m\u001b[0;34m]\u001b[0m\u001b[0;34m.\u001b[0m\u001b[0mreshape\u001b[0m\u001b[0;34m(\u001b[0m\u001b[0;36m40\u001b[0m\u001b[0;34m,\u001b[0m\u001b[0;36m40\u001b[0m\u001b[0;34m,\u001b[0m\u001b[0;36m3\u001b[0m\u001b[0;34m)\u001b[0m\u001b[0;34m,\u001b[0m\u001b[0mY\u001b[0m\u001b[0;34m[\u001b[0m\u001b[0mi\u001b[0m\u001b[0;34m]\u001b[0m\u001b[0;34m)\u001b[0m  \u001b[0;31m#4800 input units!\u001b[0m\u001b[0;34m\u001b[0m\u001b[0;34m\u001b[0m\u001b[0m\n\u001b[0m",
      "\u001b[0;31mIndexError\u001b[0m: index 1 is out of bounds for axis 0 with size 0"
     ]
    }
   ],
   "source": [
    "for i in range(1,20):\n",
    "    drawImg(X[i].reshape(40,40,3),Y[i])  #4800 input units!"
   ]
  },
  {
   "cell_type": "code",
   "execution_count": null,
   "metadata": {},
   "outputs": [],
   "source": [
    "### Create Training and Testing Set\n",
    "\n",
    "split = int(X.shape[0]*.8)\n",
    "\n",
    "X_ = np.array(X)\n",
    "Y_ = np.array(Y)\n",
    "\n",
    "#Training Set\n",
    "X = X_[:split,:]\n",
    "Y = Y_[:split]\n",
    "\n",
    "#Test Set\n",
    "XTest = X_[split:,:]\n",
    "YTest = Y_[split:]\n",
    "\n",
    "print(X.shape,Y.shape)\n",
    "print(XTest.shape,YTest.shape)"
   ]
  },
  {
   "cell_type": "code",
   "execution_count": null,
   "metadata": {},
   "outputs": [],
   "source": [
    "class NeuralNetwork:\n",
    "    \n",
    "    def __init__(self,input_size,layers,output_size):\n",
    "        np.random.seed(0)\n",
    "        \n",
    "        model = {} #Dictionary\n",
    "        \n",
    "        #First Layer\n",
    "        model['W1'] = np.random.randn(input_size,layers[0])\n",
    "        model['b1'] = np.zeros((1,layers[0]))\n",
    "        \n",
    "        #Second Layer\n",
    "        model['W2'] = np.random.randn(layers[0],layers[1])\n",
    "        model['b2'] = np.zeros((1,layers[1]))\n",
    "        \n",
    "        #Third/Output Layer\n",
    "        model['W3'] = np.random.randn(layers[1],output_size)\n",
    "        model['b3'] = np.zeros((1,output_size))\n",
    "        \n",
    "        self.model = model\n",
    "        self.activation_outputs = None\n",
    "    \n",
    "    def forward(self,x):\n",
    "        \n",
    "        W1,W2,W3 = self.model['W1'],self.model['W2'],self.model['W3']\n",
    "        b1, b2, b3 = self.model['b1'],self.model['b2'],self.model['b3']\n",
    "        \n",
    "        z1 = np.dot(x,W1) + b1\n",
    "        a1 = np.tanh(z1) \n",
    "        \n",
    "        z2 = np.dot(a1,W2) + b2\n",
    "        a2 = np.tanh(z2)\n",
    "        \n",
    "        z3 = np.dot(a2,W3) + b3\n",
    "        y_ = softmax(z3)\n",
    "        \n",
    "        self.activation_outputs = (a1,a2,y_)\n",
    "        return y_\n",
    "        \n",
    "    def backward(self,x,y,learning_rate=0.001):\n",
    "        W1,W2,W3 = self.model['W1'],self.model['W2'],self.model['W3']\n",
    "        b1, b2, b3 = self.model['b1'],self.model['b2'],self.model['b3']\n",
    "        m = x.shape[0]\n",
    "        \n",
    "        a1,a2,y_ = self.activation_outputs\n",
    "        \n",
    "        delta3 = y_ - y\n",
    "        dw3 = np.dot(a2.T,delta3)\n",
    "        db3 = np.sum(delta3,axis=0)\n",
    "        \n",
    "        delta2 = (1-np.square(a2))*np.dot(delta3,W3.T)\n",
    "        dw2 = np.dot(a1.T,delta2)\n",
    "        db2 = np.sum(delta2,axis=0)\n",
    "        \n",
    "        delta1 = (1-np.square(a1))*np.dot(delta2,W2.T)\n",
    "        dw1 = np.dot(X.T,delta1)\n",
    "        db1 = np.sum(delta1,axis=0)\n",
    "        \n",
    "        \n",
    "        #Update the Model Parameters using Gradient Descent\n",
    "        self.model[\"W1\"]  -= learning_rate*dw1\n",
    "        self.model['b1']  -= learning_rate*db1\n",
    "        \n",
    "        self.model[\"W2\"]  -= learning_rate*dw2\n",
    "        self.model['b2']  -= learning_rate*db2\n",
    "        \n",
    "        self.model[\"W3\"]  -= learning_rate*dw3\n",
    "        self.model['b3']  -= learning_rate*db3\n",
    "        \n",
    "        # :)\n",
    "        \n",
    "    def predict(self,x):\n",
    "        y_out = self.forward(x)\n",
    "        return np.argmax(y_out,axis=1)\n",
    "    \n",
    "    def summary(self):\n",
    "        W1,W2,W3 = self.model['W1'],self.model['W2'],self.model['W3']\n",
    "        a1,a2,y_ = self.activation_outputs\n",
    "        \n",
    "        print(\"W1 \",W1.shape)\n",
    "        print(\"A1 \",a1.shape)\n",
    "\n",
    "def softmax(a):\n",
    "    e_pa = np.exp(a) #Vector\n",
    "    ans = e_pa/np.sum(e_pa,axis=1,keepdims=True)\n",
    "    return ans        "
   ]
  },
  {
   "cell_type": "code",
   "execution_count": null,
   "metadata": {},
   "outputs": [],
   "source": [
    "\n",
    "def loss(y_oht,p):\n",
    "    l = -np.mean(y_oht*np.log(p))\n",
    "    return l\n",
    "\n",
    "def one_hot(y,depth):\n",
    "    \n",
    "    m = y.shape[0]\n",
    "    y_oht = np.zeros((m,depth))\n",
    "    y_oht[np.arange(m),y] = 1\n",
    "    return y_oht"
   ]
  },
  {
   "cell_type": "code",
   "execution_count": null,
   "metadata": {},
   "outputs": [],
   "source": [
    "def train(X,Y,model,epochs,learning_rate,logs=True):\n",
    "    training_loss = []\n",
    "    \n",
    "    classes = len(np.unique(Y))\n",
    "    Y_OHT = one_hot(Y,classes)\n",
    "    \n",
    "    for ix in range(epochs):\n",
    "        \n",
    "        Y_ = model.forward(X)\n",
    "        l = loss(Y_OHT,Y_)\n",
    "        \n",
    "        model.backward(X,Y_OHT,learning_rate)\n",
    "        training_loss.append(l)\n",
    "        if(logs and ix%50==0):\n",
    "            print(\"Epoch %d Loss %.4f\"%(ix,l))\n",
    "            \n",
    "    \n",
    "    return training_loss"
   ]
  },
  {
   "cell_type": "code",
   "execution_count": null,
   "metadata": {},
   "outputs": [],
   "source": [
    "model = NeuralNetwork(input_size=4800,layers=[100,50],output_size=3) #4800 features(40X40X3)"
   ]
  },
  {
   "cell_type": "code",
   "execution_count": null,
   "metadata": {},
   "outputs": [],
   "source": [
    "print(X.shape)"
   ]
  },
  {
   "cell_type": "code",
   "execution_count": null,
   "metadata": {},
   "outputs": [],
   "source": [
    "X = X.reshape(X.shape[0],-1)\n",
    "print(X.shape)\n",
    "\n",
    "XTest = XTest.reshape(XTest.shape[0],-1)\n",
    "print(XTest.shape)"
   ]
  },
  {
   "cell_type": "code",
   "execution_count": null,
   "metadata": {},
   "outputs": [],
   "source": [
    "l = train(X,Y,model,500,0.0002)"
   ]
  },
  {
   "cell_type": "code",
   "execution_count": null,
   "metadata": {},
   "outputs": [],
   "source": [
    "from matplotlib import pyplot as plt\n",
    "plt.style.use(\"dark_background\")\n",
    "plt.title(\"Training Loss vs Epochs\")\n",
    "plt.plot(l)\n",
    "\n",
    "plt.show()"
   ]
  },
  {
   "cell_type": "code",
   "execution_count": null,
   "metadata": {},
   "outputs": [],
   "source": [
    "# Accuracy \n",
    "def getAccuracy(X,Y,model):\n",
    "    outputs = model.predict(X)\n",
    "    acc = np.sum(outputs==Y)/Y.shape[0]\n",
    "    return acc\n",
    "    \n",
    "print(\"Train Acc %.4f\"%getAccuracy(X,Y,model))\n",
    "print(\"Test Acc %.4f\"%getAccuracy(XTest,YTest,model))"
   ]
  },
  {
   "cell_type": "code",
   "execution_count": null,
   "metadata": {},
   "outputs": [],
   "source": [
    "from sklearn.metrics import confusion_matrix"
   ]
  },
  {
   "cell_type": "code",
   "execution_count": null,
   "metadata": {},
   "outputs": [],
   "source": [
    "from visualize import plot_confusion_matrix"
   ]
  },
  {
   "cell_type": "code",
   "execution_count": null,
   "metadata": {},
   "outputs": [],
   "source": [
    "outputs = model.predict(X)\n",
    "cnf_matrix = confusion_matrix(outputs,Y)\n",
    "print(cnf_matrix)"
   ]
  },
  {
   "cell_type": "code",
   "execution_count": null,
   "metadata": {},
   "outputs": [],
   "source": [
    "plot_confusion_matrix(cnf_matrix,classes=[\"Pikachu\",\"Bulbasaur\",\"Meowth\"],title=\"Confusion Matrix\")"
   ]
  },
  {
   "cell_type": "code",
   "execution_count": null,
   "metadata": {},
   "outputs": [],
   "source": [
    "from sklearn.metrics import classification_report"
   ]
  },
  {
   "cell_type": "code",
   "execution_count": null,
   "metadata": {},
   "outputs": [],
   "source": [
    "print(classification_report(outputs,Y))"
   ]
  },
  {
   "cell_type": "code",
   "execution_count": null,
   "metadata": {},
   "outputs": [],
   "source": [
    "test_outputs = model.predict(XTest)\n",
    "print(classification_report(test_outputs,YTest))\n",
    "cnf_matrix = confusion_matrix(test_outputs,YTest)\n",
    "plot_confusion_matrix(cnf_matrix,classes=[\"Pikachu\",\"Bulbasaur\",\"Meowth\"],title=\"Confusion Matrix Test\")\n"
   ]
  },
  {
   "cell_type": "markdown",
   "metadata": {},
   "source": [
    "### Visualise Misclassifications\n"
   ]
  },
  {
   "cell_type": "code",
   "execution_count": null,
   "metadata": {},
   "outputs": [],
   "source": [
    "for i in range(Y.shape[0]):\n",
    "    if Y[i] != outputs[i]:\n",
    "        drawImg(X[i].reshape(40,40,3),Y[i])\n",
    "        print(\"Prediction %d %s\"%(i,label2pokemon[outputs[i]]))"
   ]
  }
 ],
 "metadata": {
  "kernelspec": {
   "display_name": "Python 3",
   "language": "python",
   "name": "python3"
  },
  "language_info": {
   "codemirror_mode": {
    "name": "ipython",
    "version": 3
   },
   "file_extension": ".py",
   "mimetype": "text/x-python",
   "name": "python",
   "nbconvert_exporter": "python",
   "pygments_lexer": "ipython3",
   "version": "3.6.7"
  }
 },
 "nbformat": 4,
 "nbformat_minor": 2
}
