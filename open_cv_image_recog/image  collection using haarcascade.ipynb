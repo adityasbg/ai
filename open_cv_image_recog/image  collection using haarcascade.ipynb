{
 "cells": [
  {
   "cell_type": "code",
   "execution_count": 2,
   "metadata": {},
   "outputs": [],
   "source": [
    "import cv2 \n",
    "import numpy as np\n"
   ]
  },
  {
   "cell_type": "code",
   "execution_count": 3,
   "metadata": {},
   "outputs": [
    {
     "name": "stdout",
     "output_type": "stream",
     "text": [
      "enter file nameaditya\n",
      "1\n",
      "2\n",
      "3\n",
      "4\n",
      "5\n",
      "6\n",
      "(6, 30000)\n",
      "file saved at./data/aditya\n"
     ]
    }
   ],
   "source": [
    "#init camera \n",
    "cap =cv2.VideoCapture(0)\n",
    "#face detection\n",
    "face_csacade = cv2.CascadeClassifier('haarcascade_frontalface_default.xml')\n",
    "\n",
    "\n",
    "skip =0\n",
    "facedata =[]\n",
    "dataset_path='./data/'\n",
    "filename =input(' enter file name ' )\n",
    "while True :\n",
    "    \n",
    "    ret ,frame =cap.read()\n",
    "    if(ret == False):\n",
    "        continue\n",
    "        \n",
    "    gray_frame =cv2.cvtColor(frame ,cv2.COLOR_BGR2GRAY)\n",
    "    faces =face_csacade.detectMultiScale(frame , 1.05 , 5)\n",
    "    # w * h sort largest image by area  in detection \n",
    "    faces=sorted(faces ,key=lambda f : f[2]*f[3])\n",
    "    \n",
    "    for face in faces[-1:]:\n",
    "        x,y,w,h = face\n",
    "        cv2.rectangle(frame ,(x,y),(x+w , y+h) , (0,0 ,255) , 2)\n",
    "        #extract crop image region of interest \n",
    "        offset =20  # padding to image captured \n",
    "        # in frame first axis is y  axis and then y axis \n",
    "        face_section =  frame[y-offset:y+offset+h,x-offset:x+offset+w]\n",
    "        face_section =cv2.resize(face_section ,(100 ,100))\n",
    "        skip=skip+1 \n",
    "        \n",
    "        #store every 10th face\n",
    "        if(skip % 10 ==0):\n",
    "            facedata.append(face_section)\n",
    "            print(len(facedata))\n",
    "        \n",
    "        \n",
    "        \n",
    "    cv2.imshow(\"frame\",frame)\n",
    "    cv2.imshow('frame section ',face_section)\n",
    "    \n",
    "\n",
    "        \n",
    "        \n",
    "    \n",
    "    keypressed =cv2.waitKey(1) & 0xff\n",
    "    \n",
    "    if(keypressed == ord('q')):\n",
    "        break\n",
    "        \n",
    "        \n",
    "#convert to numpy array \n",
    "\n",
    "facedata =np.asarray(facedata)\n",
    "facedata = facedata.reshape((facedata.shape[0] ,-1))\n",
    "print(facedata.shape)\n",
    "#save data into file system \n",
    "np.save(dataset_path +filename+'.npy',facedata)\n",
    "print('file saved at'+dataset_path +filename)\n",
    "\n",
    "\n",
    "cap.release()\n",
    "cv2.destroyAllWindows()\n",
    "\n",
    "\n",
    "\n",
    "\n",
    "\n",
    "\n",
    "\n",
    "\n",
    "\n",
    "\n",
    "\n",
    "\n",
    "\n"
   ]
  },
  {
   "cell_type": "code",
   "execution_count": 12,
   "metadata": {},
   "outputs": [
    {
     "ename": "IndexError",
     "evalue": "too many indices for array",
     "output_type": "error",
     "traceback": [
      "\u001b[0;31m---------------------------------------------------------------------------\u001b[0m",
      "\u001b[0;31mIndexError\u001b[0m                                Traceback (most recent call last)",
      "\u001b[0;32m<ipython-input-12-0950e3426ea8>\u001b[0m in \u001b[0;36m<module>\u001b[0;34m()\u001b[0m\n\u001b[1;32m      3\u001b[0m \u001b[0mdata\u001b[0m \u001b[0;34m=\u001b[0m \u001b[0mnp\u001b[0m\u001b[0;34m.\u001b[0m\u001b[0masarray\u001b[0m\u001b[0;34m(\u001b[0m\u001b[0mf\u001b[0m\u001b[0;34m)\u001b[0m\u001b[0;34m\u001b[0m\u001b[0;34m\u001b[0m\u001b[0m\n\u001b[1;32m      4\u001b[0m \u001b[0;34m\u001b[0m\u001b[0m\n\u001b[0;32m----> 5\u001b[0;31m \u001b[0mprint\u001b[0m\u001b[0;34m(\u001b[0m\u001b[0mdata\u001b[0m\u001b[0;34m[\u001b[0m\u001b[0;36m0\u001b[0m\u001b[0;34m]\u001b[0m\u001b[0;34m)\u001b[0m\u001b[0;34m\u001b[0m\u001b[0;34m\u001b[0m\u001b[0m\n\u001b[0m",
      "\u001b[0;31mIndexError\u001b[0m: too many indices for array"
     ]
    }
   ],
   "source": [
    "f=open('./data/aditya.npy')\n",
    "\n",
    "data = np.asarray(f)\n",
    "\n",
    "print(data[0])"
   ]
  },
  {
   "cell_type": "code",
   "execution_count": null,
   "metadata": {},
   "outputs": [],
   "source": []
  }
 ],
 "metadata": {
  "kernelspec": {
   "display_name": "Python 3",
   "language": "python",
   "name": "python3"
  },
  "language_info": {
   "codemirror_mode": {
    "name": "ipython",
    "version": 3
   },
   "file_extension": ".py",
   "mimetype": "text/x-python",
   "name": "python",
   "nbconvert_exporter": "python",
   "pygments_lexer": "ipython3",
   "version": "3.6.7"
  }
 },
 "nbformat": 4,
 "nbformat_minor": 2
}
