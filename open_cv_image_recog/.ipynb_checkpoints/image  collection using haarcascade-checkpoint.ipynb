{
 "cells": [
  {
   "cell_type": "code",
   "execution_count": 2,
   "metadata": {},
   "outputs": [],
   "source": [
    "import cv2 \n",
    "import numpy as np\n"
   ]
  },
  {
   "cell_type": "code",
   "execution_count": 4,
   "metadata": {},
   "outputs": [],
   "source": [
    "#init camera \n",
    "\n",
    "\n",
    "cap =cv2.VideoCapture(0)\n",
    "\n",
    "#face detection\n",
    "\n",
    "face_csacade = cv2.CascadeClassifier('haarcascade_frontalface_default.xml')\n",
    "\n",
    "\n",
    "skip =0\n",
    "facedata =[]\n",
    "dataset_path='./data/'\n",
    "while True :\n",
    "    \n",
    "    ret ,frame =cap.read()\n",
    "    if(ret == False):\n",
    "        continue\n",
    "        \n",
    "    gray_frame =cv2.cvtColor(frame ,cv2.COLOR_BGR2GRAY)\n",
    "    \n",
    "    \n",
    "    faces =face_csacade.detectMultiScale(frame , 1.05 , 5)\n",
    "    # w * h sort largest image by area  in detection \n",
    "    faces=sorted(faces ,key=lambda f : f[2]*f[3])\n",
    "    \n",
    "    for face in faces[-1:]:\n",
    "        x,y,w,h = face\n",
    "        cv2.rectangle(frame ,(x,y),(x+w , y+h) , (0,0 ,255) , 2)\n",
    "        \n",
    "        #extract crop image region of interest \n",
    "        offset =10  # padding to image captured \n",
    "        # in frame first axis is y  axis and then y axis \n",
    "        face_section =  frame[y-offset:y+offset+h,x-offset:x+offset+w]\n",
    "        face_section =cv2.resize(face_section ,(100 ,100))\n",
    "        skip=skip+1\n",
    "        #store every 10th face\n",
    "        if(skip % 10 ==0):\n",
    "            facedata.append(face_section)\n",
    "            print(len(face_section))\n",
    "        \n",
    "        \n",
    "        \n",
    "    cv2.imshow(\"frame\",frame)\n",
    "    cv2.imshow('frame section ',face_section)\n",
    "    \n",
    "\n",
    "        \n",
    "        \n",
    "    \n",
    "    keypressed =cv2.waitKey(1) & 0xff\n",
    "    \n",
    "    if(keypressed == ord('q')):\n",
    "        break\n",
    "        \n",
    "cap.release()\n",
    "cv2.destroyAllWindows()\n",
    "\n",
    "\n",
    "\n",
    "\n",
    "\n",
    "\n",
    "\n",
    "\n",
    "\n",
    "\n",
    "\n",
    "\n",
    "\n"
   ]
  },
  {
   "cell_type": "code",
   "execution_count": null,
   "metadata": {},
   "outputs": [],
   "source": []
  },
  {
   "cell_type": "code",
   "execution_count": null,
   "metadata": {},
   "outputs": [],
   "source": []
  }
 ],
 "metadata": {
  "kernelspec": {
   "display_name": "Python 3",
   "language": "python",
   "name": "python3"
  },
  "language_info": {
   "codemirror_mode": {
    "name": "ipython",
    "version": 3
   },
   "file_extension": ".py",
   "mimetype": "text/x-python",
   "name": "python",
   "nbconvert_exporter": "python",
   "pygments_lexer": "ipython3",
   "version": "3.6.7"
  }
 },
 "nbformat": 4,
 "nbformat_minor": 2
}
